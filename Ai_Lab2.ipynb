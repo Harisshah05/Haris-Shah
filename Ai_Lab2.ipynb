{
  "nbformat": 4,
  "nbformat_minor": 0,
  "metadata": {
    "colab": {
      "provenance": [],
      "collapsed_sections": [],
      "authorship_tag": "ABX9TyNBBBFPiLnNIRGGFUQd/bFj"
    },
    "kernelspec": {
      "name": "python3",
      "display_name": "Python 3"
    },
    "language_info": {
      "name": "python"
    }
  },
  "cells": [
    {
      "cell_type": "code",
      "execution_count": null,
      "metadata": {
        "colab": {
          "base_uri": "https://localhost:8080/"
        },
        "id": "mqVfZnhj3s4W",
        "outputId": "4d517630-ae28-4478-f296-c634a4972bd4"
      },
      "outputs": [
        {
          "output_type": "stream",
          "name": "stdout",
          "text": [
            "Enter number:: 4\n",
            "Enter number:: 2\n",
            "Enter number:: 5\n",
            "['4', '2', '5']\n",
            "Enter number:: 6\n",
            "Enter number:: 1\n",
            "Enter number:: 3\n",
            "['6', '1', '3']\n",
            "['1', '2', '3', '4', '5', '6']\n"
          ]
        }
      ],
      "source": [
        "mylist1 =[]\n",
        "for i in range(3):\n",
        "    mylist1.append(input(\"Enter number:: \"))\n",
        "print(mylist1)\n",
        "mylist2 =[]\n",
        "for a in range(3):\n",
        "    mylist2.append(input(\"Enter number:: \"))\n",
        "print(mylist2)\n",
        "mylist3 =mylist1 + mylist2\n",
        "print(sorted(mylist3))\n"
      ]
    },
    {
      "cell_type": "code",
      "source": [
        "mylist1 =[]\n",
        "for i in range(3):\n",
        "    mylist1.append(input(\"Enter number:: \"))\n",
        "print(mylist1)\n",
        "mylist2 =[]\n",
        "for a in range(3):\n",
        "    mylist2.append(input(\"Enter number:: \"))\n",
        "print(mylist2)\n",
        "mylist3 =mylist1 + mylist2\n",
        "print(mylist3)\n",
        "print(\"The maximum number of the list is:\", max(mylist3))\n",
        "print(\"The maximum number of the list is:\", min(mylist3))"
      ],
      "metadata": {
        "colab": {
          "base_uri": "https://localhost:8080/"
        },
        "id": "oUWFJsMoAVzT",
        "outputId": "57186fc9-7fd0-4223-b6f3-6b8ea6c08281"
      },
      "execution_count": null,
      "outputs": [
        {
          "output_type": "stream",
          "name": "stdout",
          "text": [
            "Enter number:: 6\n",
            "Enter number:: 2\n",
            "Enter number:: 4\n",
            "Enter number:: 5\n",
            "['6', '2', '4']\n",
            "Enter number:: 6\n",
            "Enter number:: 7\n",
            "['5', '6', '7']\n",
            "['6', '2', '4', '5', '6', '7']\n",
            "the maximum number of the list is: 7\n",
            "2\n"
          ]
        }
      ]
    },
    {
      "cell_type": "code",
      "source": [
        "def symmDiff(a,b):\n",
        "  e=set()\n",
        "  for i in a:\n",
        "       if i not in b:\n",
        "            e.add(i)\n",
        "            for i in b:\n",
        "              if i not in a:\n",
        "                e.add(i)\n",
        "set1={1,2,4,5}\n",
        "set2={4,5,7,8,9}\n",
        "print(symmDiff(set1,set2))\n",
        "print(set1.symmetric_difference(set2))\n",
        "print(set2.symmetric_difference(set1))\n",
        "print(set1^set2)\n",
        "print(set2^set1)"
      ],
      "metadata": {
        "colab": {
          "base_uri": "https://localhost:8080/"
        },
        "id": "0qrx4uI0toyJ",
        "outputId": "523e3c48-d2d5-4b4c-dc21-7098dfd2e43c"
      },
      "execution_count": 2,
      "outputs": [
        {
          "output_type": "stream",
          "name": "stdout",
          "text": [
            "None\n",
            "{1, 2, 7, 8, 9}\n",
            "{1, 2, 7, 8, 9}\n",
            "{1, 2, 7, 8, 9}\n",
            "{1, 2, 7, 8, 9}\n"
          ]
        }
      ]
    },
    {
      "cell_type": "code",
      "source": [
        "A = [[1, 0, 0],\n",
        "    [0, 1, 0],\n",
        "    [0, 0, 1]]\n",
        " \n",
        "# take a 3x4 matrix   \n",
        "B = [[1, 2, 3, ],\n",
        "    [4, 5, 6 ],\n",
        "    [7, 8, 9 ]]\n",
        "     \n",
        "c = [[0, 0, 0, 0],\n",
        "        [0, 0, 0, 0],\n",
        "        [0, 0, 0, 0]]\n",
        " \n",
        "# iterating by row of A\n",
        "for i in range(len(A)):\n",
        " \n",
        "    # iterating by column by B\n",
        "    for j in range(len(B[0])):\n",
        " \n",
        "        # iterating by rows of B\n",
        "        for k in range(len(B)):\n",
        "            c[i][j] += A[i][k] * B[k][j]\n",
        " \n",
        "for r in c:\n",
        "    print(r)"
      ],
      "metadata": {
        "colab": {
          "base_uri": "https://localhost:8080/"
        },
        "id": "8mKbVVehwock",
        "outputId": "4325d02c-9f7c-4c0e-c605-39e68712c19e"
      },
      "execution_count": 3,
      "outputs": [
        {
          "output_type": "stream",
          "name": "stdout",
          "text": [
            "[1, 2, 3, 0]\n",
            "[4, 5, 6, 0]\n",
            "[7, 8, 9, 0]\n"
          ]
        }
      ]
    },
    {
      "cell_type": "code",
      "source": [
        "def isPalindrome(words):\n",
        "  temp=words[::-1]\n",
        "  if temp.capitalize()==words.capitalize():\n",
        "      return True\n",
        "  else:\n",
        "       return False\n",
        "print(isPalindrome(\"dad\"))\n"
      ],
      "metadata": {
        "colab": {
          "base_uri": "https://localhost:8080/"
        },
        "id": "huCjZW6vw-oa",
        "outputId": "3d63be08-1f86-415b-d8f6-d3ffad22017e"
      },
      "execution_count": 4,
      "outputs": [
        {
          "output_type": "stream",
          "name": "stdout",
          "text": [
            "True\n"
          ]
        }
      ]
    },
    {
      "cell_type": "code",
      "source": [
        "mylist=[]\n",
        "print(\"Enter  a list that is  taken from user 1\")\n",
        "for i in range (5):\n",
        "  val=input(\"Enter a value\")\n",
        "  n=int(val)\n",
        "  mylist.append(n)\n",
        "  #taken list 2\n",
        "mylist2=[]\n",
        "print(\"Enter a list that is taken from list 2\")\n",
        "for i in range (5):\n",
        "    val=input(\"enter a number\")\n",
        "    n=int(val)\n",
        "    mylist2.append(n)\n",
        "list3=mylist+mylist2;\n",
        "print(list3)\n"
      ],
      "metadata": {
        "colab": {
          "base_uri": "https://localhost:8080/"
        },
        "id": "ZiIOPE-YxBRD",
        "outputId": "52bf5b11-bc1d-405a-b655-ab802d6c662c"
      },
      "execution_count": 5,
      "outputs": [
        {
          "output_type": "stream",
          "name": "stdout",
          "text": [
            "Enter  a list that is  taken from user 1\n",
            "Enter a value1\n",
            "Enter a value2\n",
            "Enter a value3\n",
            "Enter a value4\n",
            "Enter a value5\n",
            "Enter a list that is taken from list 2\n",
            "enter a number9\n",
            "enter a number8\n",
            "enter a number7\n",
            "enter a number6\n",
            "enter a number5\n",
            "[1, 2, 3, 4, 5, 9, 8, 7, 6, 5]\n"
          ]
        }
      ]
    },
    {
      "cell_type": "code",
      "source": [],
      "metadata": {
        "id": "OGJAcadE0qab"
      },
      "execution_count": null,
      "outputs": []
    },
    {
      "cell_type": "code",
      "source": [
        "#Activity 6\n",
        "sample={(\"Haris,Ali\"):\"03131512785889\",(\"Alyaan\",\"AAmir\"):\"03145678738787\",(\"Shahzaib\",\"Talha\"):\"677547638636827\"}\n",
        "firstname=input(\"Enter the first name\")\n",
        "lastname=input(\"enter the last name \")\n",
        "searchtuple=(firstname,lastname)\n",
        "if searchtuple in sample:\n",
        "  print(sample[searchtuple])\n",
        "else:\n",
        "    print(\"name not found\")"
      ],
      "metadata": {
        "colab": {
          "base_uri": "https://localhost:8080/"
        },
        "id": "PluE4mEPvn8f",
        "outputId": "e3807ad2-c7e7-4463-e612-1f26b07b5660"
      },
      "execution_count": 1,
      "outputs": [
        {
          "output_type": "stream",
          "name": "stdout",
          "text": [
            "Enter the first nameAlyaan\n",
            "enter the last name AAmir\n",
            "03145678738787\n"
          ]
        }
      ]
    },
    {
      "cell_type": "code",
      "source": [
        "dictionary = {\n",
        "    \n",
        " \"Alyaan\" : \"10/july/2001\",\n",
        " \"Haris Shah\" : \"1/oct/2000\",\n",
        "}\n",
        "for i in dictionary:\n",
        "    print(i)\n",
        "name = input(\"enter The Names :\")\n",
        "if name in dictionary:\n",
        "  print(name,\":\",dictionary[name])\n",
        "else:\n",
        "  print(\"Error\") \n",
        "\n"
      ],
      "metadata": {
        "colab": {
          "base_uri": "https://localhost:8080/"
        },
        "id": "Kp9fjpVrEHJA",
        "outputId": "2982b667-cd4c-4faa-a994-598ac2f35059"
      },
      "execution_count": null,
      "outputs": [
        {
          "output_type": "stream",
          "name": "stdout",
          "text": [
            "Alyaan\n",
            "Haris Shah\n",
            "enter The Names :Haris Shah\n",
            "Haris Shah : 1/oct/2000\n"
          ]
        }
      ]
    },
    {
      "cell_type": "code",
      "source": [
        "sample_dict = {\n",
        " \"name\": \"Kelly\",\n",
        " \"age\": 25,\n",
        " \"salary\": 8000,\n",
        " \"city\": \"New york\"\n",
        " }\n",
        "new = {}\n",
        "F = sample_dict[\"name\"]\n",
        "S = sample_dict[\"salary\"]\n",
        "new['Name'] = F\n",
        "new['Salary'] = S\n",
        "print(new)"
      ],
      "metadata": {
        "colab": {
          "base_uri": "https://localhost:8080/"
        },
        "id": "vbKey2g8RbIm",
        "outputId": "4e0b4c77-8b4f-4c7a-8fe8-19c6c3ea758d"
      },
      "execution_count": null,
      "outputs": [
        {
          "output_type": "stream",
          "name": "stdout",
          "text": [
            "{'Name': 'Kelly', 'Salary': 8000}\n"
          ]
        }
      ]
    },
    {
      "cell_type": "code",
      "source": [
        "import math\n",
        "a= math.pi\n",
        "b = -(a)\n",
        "mylist =[] \n",
        "mylist.append(b)\n",
        "mylist.append(a)\n",
        "for i in range(5):\n",
        "    a+=0.001\n",
        "    b+=0.001\n",
        "    mylist.append(b)\n",
        "    mylist.append(a)\n",
        "print(mylist)\n"
      ],
      "metadata": {
        "colab": {
          "base_uri": "https://localhost:8080/"
        },
        "id": "lKDPQDZEXDag",
        "outputId": "71e35976-96b4-4ceb-86c8-2d0d77c7c7af"
      },
      "execution_count": null,
      "outputs": [
        {
          "output_type": "stream",
          "name": "stdout",
          "text": [
            "[-3.141592653589793, 3.141592653589793, -3.1405926535897932, 3.142592653589793, -3.1395926535897933, 3.143592653589793, -3.1385926535897934, 3.144592653589793, -3.1375926535897936, 3.1455926535897927, -3.1365926535897937, 3.1465926535897926]\n"
          ]
        }
      ]
    }
  ]
}