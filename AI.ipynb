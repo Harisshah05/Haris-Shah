{
  "cells": [
    {
      "cell_type": "markdown",
      "metadata": {
        "id": "view-in-github",
        "colab_type": "text"
      },
      "source": [
        "<a href=\"https://colab.research.google.com/github/Harisshah05/Haris-Shah/blob/main/AI.ipynb\" target=\"_parent\"><img src=\"https://colab.research.google.com/assets/colab-badge.svg\" alt=\"Open In Colab\"/></a>"
      ]
    },
    {
      "cell_type": "code",
      "execution_count": null,
      "metadata": {
        "colab": {
          "base_uri": "https://localhost:8080/"
        },
        "id": "naY1SlTE_Hn0",
        "outputId": "71994874-9f97-4683-d37d-8a2f13e0d7cf"
      },
      "outputs": [
        {
          "name": "stdout",
          "output_type": "stream",
          "text": [
            "Enter a numbers8\n",
            "The number is even \n"
          ]
        }
      ],
      "source": [
        "#Question no 1\n",
        "\n",
        "x=int(input(\"Enter a numbers\"))\n",
        "if int(x)%2==0:\n",
        "  print(\"The number is even \")\n",
        "else:\n",
        "  print(\"The num is odd\")"
      ]
    },
    {
      "cell_type": "code",
      "execution_count": null,
      "metadata": {
        "colab": {
          "base_uri": "https://localhost:8080/"
        },
        "id": "ty1Ao7c2_0Pk",
        "outputId": "fafb986c-90f3-40c2-9878-8a461a493b44"
      },
      "outputs": [
        {
          "name": "stdout",
          "output_type": "stream",
          "text": [
            "enter a number5\n",
            "The result is 5\n",
            "enter a number1\n",
            "The result is 6\n",
            "enter a number2\n",
            "The result is 8\n",
            "enter a number166\n",
            "The result is 174\n",
            "enter a number8\n",
            "The result is 182\n"
          ]
        }
      ],
      "source": [
        "sum=0\n",
        "i=0\n",
        "while i<=4:\n",
        "  s=input(\"enter a number\")\n",
        "  n=int(s)\n",
        "  sum=sum+n\n",
        "  i=i+1\n",
        "  print(\"The result is\",sum)"
      ]
    },
    {
      "cell_type": "code",
      "execution_count": null,
      "metadata": {
        "colab": {
          "background_save": true
        },
        "id": "qEPqcCH_CMVS",
        "outputId": "5e43f037-ef52-438b-d826-c2c2da999520"
      },
      "outputs": [
        {
          "name": "stdout",
          "output_type": "stream",
          "text": [
            "number is prime\n",
            "number is prime\n",
            "number is prime\n"
          ]
        }
      ],
      "source": [
        "isprime=True\n",
        "i=2\n",
        "number=int(input(\"enter a new number\"))\n",
        "while(i<number):\n",
        "  remainder=number%i\n",
        "  if(remainder==0):\n",
        "    isprime=False\n",
        "  else:\n",
        "      i=i+1\n",
        "  if(isprime):\n",
        "     print(\"number is prime\")\n",
        "  else:\n",
        "     print(\"Number is not prime\")\n"
      ]
    },
    {
      "cell_type": "code",
      "source": [
        "#activity 4\n",
        "s=0\n",
        "i=0\n",
        "while i<=5:\n",
        "  q = input(\"enter number\")\n",
        "  n= int(q)\n",
        "  s=s+i\n",
        "  i=i+1\n",
        "  print(\"The sum is:\",s) "
      ],
      "metadata": {
        "colab": {
          "base_uri": "https://localhost:8080/"
        },
        "id": "JxIlI1pAEvPY",
        "outputId": "a59460ce-8206-402f-df47-330c935e30d8"
      },
      "execution_count": null,
      "outputs": [
        {
          "output_type": "stream",
          "name": "stdout",
          "text": [
            "enter number1\n",
            "The sum is: 0\n",
            "enter number2\n",
            "The sum is: 1\n",
            "enter number3\n",
            "The sum is: 3\n",
            "enter number5\n",
            "The sum is: 6\n",
            "enter number6\n",
            "The sum is: 10\n",
            "enter number7\n",
            "The sum is: 15\n"
          ]
        }
      ]
    },
    {
      "cell_type": "code",
      "source": [
        "s=0\n",
        "num=int(input(\"enter a number:\"))\n",
        "while(num!=0):\n",
        "  s=s=num\n",
        "  num=int(input(\"Enter a number\"))\n",
        "  print(s)"
      ],
      "metadata": {
        "id": "VJ8rUucWHcD9",
        "outputId": "87448569-3e11-4040-ecf5-80b4b76970c9",
        "colab": {
          "base_uri": "https://localhost:8080/"
        }
      },
      "execution_count": null,
      "outputs": [
        {
          "output_type": "stream",
          "name": "stdout",
          "text": [
            "enter a number:7\n",
            "Enter a number4\n",
            "7\n",
            "Enter a number9\n",
            "4\n",
            "Enter a number0\n",
            "9\n"
          ]
        }
      ]
    },
    {
      "cell_type": "code",
      "source": [
        "name=input(\"what is your name?\")\n",
        "hobby=input(\"what is your hobby?\")\n",
        "country=input(\"what is your fav country?\")\n",
        "print(\"--------------------------------------------------\")\n",
        "print(name)\n",
        "print(hobby)\n",
        "print(country)"
      ],
      "metadata": {
        "id": "vPbh0IB4IB1T",
        "outputId": "4827cb6b-3442-46da-c034-80e20ddad7cd",
        "colab": {
          "base_uri": "https://localhost:8080/"
        }
      },
      "execution_count": null,
      "outputs": [
        {
          "output_type": "stream",
          "name": "stdout",
          "text": [
            "what is your name?Haris Shah\n",
            "what is your hobby?Sleeping\n",
            "what is your fav country?Pakistan\n",
            "--------------------------------------------------\n",
            "Haris Shah\n",
            "Sleeping\n",
            "Pakistan\n"
          ]
        }
      ]
    },
    {
      "cell_type": "code",
      "source": [
        "\n",
        "Number = int(input(\"Please Enter any Number: \"))    \n",
        "Reverse = 0    \n",
        "while(Number > 0):    \n",
        "    Reminder = Number %10    \n",
        "    Reverse = (Reverse *10) + Reminder    \n",
        "    Number = Number //10    \n",
        "     \n",
        "print(\"\\n Reverse of entered number is = %d\" %Reverse)  "
      ],
      "metadata": {
        "id": "A2FUwuxeJWCy",
        "outputId": "91daa17a-c2d8-4a4a-efe2-73db03ff74a6",
        "colab": {
          "base_uri": "https://localhost:8080/"
        }
      },
      "execution_count": null,
      "outputs": [
        {
          "output_type": "stream",
          "name": "stdout",
          "text": [
            "Please Enter any Number: 6789\n",
            "\n",
            " Reverse of entered number is = 9876\n"
          ]
        }
      ]
    },
    {
      "cell_type": "code",
      "source": [
        "minimum = int(input(\" Please Enter the Minimum Value : \")) \n",
        "maximum = int(input(\" Please Enter the Maximum Value : \"))\n",
        "\n",
        "even_total = 0\n",
        "odd_total = 0\n",
        " \n",
        "for number in range(minimum, maximum + 1):\n",
        "    if(number % 2 == 0):\n",
        "        even_total = even_total + number\n",
        "    else:\n",
        "        odd_total = odd_total + number\n",
        " \n",
        "print(\"The Sum of Even Numbers from 1 to {0} = {1}\".format(number, even_total))\n",
        "print(\"The Sum of Odd Numbers from 1 to {0} = {1}\".format(number, odd_total))\n"
      ],
      "metadata": {
        "id": "Vmc21xgXKFKr",
        "outputId": "4bfbc3a1-7189-4e85-9e1a-e25f393984d7",
        "colab": {
          "base_uri": "https://localhost:8080/"
        }
      },
      "execution_count": null,
      "outputs": [
        {
          "output_type": "stream",
          "name": "stdout",
          "text": [
            " Please Enter the Minimum Value : 6\n",
            " Please Enter the Maximum Value : 12\n",
            "The Sum of Even Numbers from 1 to 12 = 36\n",
            "The Sum of Odd Numbers from 1 to 12 = 27\n"
          ]
        }
      ]
    },
    {
      "cell_type": "code",
      "source": [
        "nterms = int(input(\"How many terms? \"))\n",
        "\n",
        "# first two terms\n",
        "n1, n2 = 0, 1\n",
        "count = 0\n",
        "\n",
        "# check if the number of terms is valid\n",
        "if nterms <= 0:\n",
        "   print(\"Please enter a positive integer\")\n",
        "# if there is only one term, return n1\n",
        "elif nterms == 1:\n",
        "   print(\"Fibonacci sequence upto\",nterms,\":\")\n",
        "   print(n1)\n",
        "# generate fibonacci sequence\n",
        "else:\n",
        "   print(\"Fibonacci sequence:\")\n",
        "   while count < nterms:\n",
        "       print(n1)\n",
        "       nth = n1 + n2\n",
        "       # update values\n",
        "       n1 = n2\n",
        "       n2 = nth\n",
        "       count += 1"
      ],
      "metadata": {
        "id": "CRqxZfwGK0D_",
        "outputId": "e0139282-6d02-4d64-fd69-f2d8df35bbf7",
        "colab": {
          "base_uri": "https://localhost:8080/"
        }
      },
      "execution_count": null,
      "outputs": [
        {
          "output_type": "stream",
          "name": "stdout",
          "text": [
            "How many terms? 2\n",
            "Fibonacci sequence:\n",
            "0\n",
            "1\n"
          ]
        }
      ]
    },
    {
      "cell_type": "code",
      "source": [
        "a=int(input(\"enter marks of students\"))\n",
        "avg=a/100\n",
        "if(avg<50):\n",
        "  print(\"your grade is F\")\n",
        "elif (avg>=50 and avg<=60):\n",
        "  print(\"your grade is E\")\n",
        "elif(avg>=61 and avg<=70):\n",
        "  print(\"Your grade is D\")\n",
        "elif(avg>=71 and avg<=80):\n",
        "  print (\"your grade is C\")\n",
        "elif(avg>=81 and avg<=90):\n",
        "  print(\"your grade is B\")\n",
        "else:\n",
        "  print(\"your grade is A\")\n",
        "  "
      ],
      "metadata": {
        "id": "s90I5KeVK6nQ",
        "outputId": "8d14e3ab-6d86-430f-c07a-3e8015cc571d",
        "colab": {
          "base_uri": "https://localhost:8080/"
        }
      },
      "execution_count": null,
      "outputs": [
        {
          "output_type": "stream",
          "name": "stdout",
          "text": [
            "enter marks of students20\n",
            "your grade is F\n"
          ]
        }
      ]
    },
    {
      "cell_type": "code",
      "source": [
        "\n",
        "num = int(input(\"Enter a number: \"))    \n",
        "factorial = 1    \n",
        "if num < 0:    \n",
        "   print(\" Factorial does not exist for negative numbers\")    \n",
        "elif num == 0:    \n",
        "   print(\"The factorial of 0 is 1\")    \n",
        "else:    \n",
        "   for i in range(1,num + 1):    \n",
        "       factorial = factorial*i    \n",
        "   print(\"The factorial of\",num,\"is\",factorial)    "
      ],
      "metadata": {
        "id": "mr1Z5d-zLzSd",
        "outputId": "e7015b00-e706-4c37-9389-51df042612fd",
        "colab": {
          "base_uri": "https://localhost:8080/"
        }
      },
      "execution_count": null,
      "outputs": [
        {
          "output_type": "stream",
          "name": "stdout",
          "text": [
            "Enter a number: 9\n",
            "The factorial of 9 is 362880\n"
          ]
        }
      ]
    }
  ],
  "metadata": {
    "colab": {
      "provenance": [],
      "authorship_tag": "ABX9TyMSHQQjeNfoE4Q80zZ0EiTm",
      "include_colab_link": true
    },
    "kernelspec": {
      "display_name": "Python 3",
      "name": "python3"
    },
    "language_info": {
      "name": "python"
    }
  },
  "nbformat": 4,
  "nbformat_minor": 0
}