{
  "nbformat": 4,
  "nbformat_minor": 0,
  "metadata": {
    "colab": {
      "provenance": [],
      "authorship_tag": "ABX9TyO9E22Ozml3BWY3KVV4N/sl",
      "include_colab_link": true
    },
    "kernelspec": {
      "name": "python3",
      "display_name": "Python 3"
    },
    "language_info": {
      "name": "python"
    }
  },
  "cells": [
    {
      "cell_type": "markdown",
      "metadata": {
        "id": "view-in-github",
        "colab_type": "text"
      },
      "source": [
        "<a href=\"https://colab.research.google.com/github/Harisshah05/Haris-Shah/blob/main/Ai_Lab3.ipynb\" target=\"_parent\"><img src=\"https://colab.research.google.com/assets/colab-badge.svg\" alt=\"Open In Colab\"/></a>"
      ]
    },
    {
      "cell_type": "code",
      "source": [
        "class Node:\n",
        "    def _init_(self, state, parent, actions, totalCost):\n",
        "        self.state = state  # Corrunt Node\n",
        "        self.parent = parent  # Parent of that Node\n",
        "        self.actions = actions # Neighbours of that Node\n",
        "        self.totalCost = totalCost # Distance to the source Node\n",
        "    \n",
        "\n",
        "def bfs():\n",
        "    initialState = 'F'\n",
        "    goalState = 'A'\n",
        "    \n",
        "    graph = {\n",
        "         'A' : Node('A', None , ['B','C', 'E'], None),\n",
        "         'B' : Node('B', None , ['A', 'D', 'E'], None),\n",
        "         'C' : Node('C', None , ['A', 'F', 'G'], None),\n",
        "         'D' : Node('D', None , ['B', 'E'], None),\n",
        "         'E' : Node('E', None , ['A', 'B', 'D'], None),\n",
        "         'F' : Node('F', None , ['C'], None),\n",
        "         'G' : Node('G', None , ['C'], None)\n",
        "         }\n",
        "    \n",
        "    queue = [initialState]\n",
        "    visited = []\n",
        "    \n",
        "    while len(queue) != 0:\n",
        "        currentNode = queue.pop(0)\n",
        "        visited.append(currentNode)\n",
        "        for child in graph[currentNode].actions:\n",
        "            if child not in queue and child not in visited:\n",
        "                graph[child].parent = currentNode\n",
        "                if graph[child].state == goalState:\n",
        "                    return actionSequence(graph , initialState, goalState)\n",
        "                queue.append(child)\n",
        "                \n",
        "def actionSequence(graph , initialState, goalState):\n",
        "    solution = [goalState]\n",
        "    currentParent = graph[goalState].parent\n",
        "    while currentParent != None:\n",
        "        solution.append(currentParent)\n",
        "        currentParent = graph[currentParent].parent\n",
        "    solution.reverse()\n",
        "    return solution\n",
        "sol = bfs()\n",
        "print(sol)"
      ],
      "metadata": {
        "id": "HydUbboH6aoX"
      },
      "execution_count": null,
      "outputs": []
    },
    {
      "cell_type": "code",
      "source": [
        "class Node:\n",
        "  def __init__(self, state, parent, actions, totalCost):\n",
        "    self.state = state\n",
        "    self.parent = parent\n",
        "    self.actions = actions\n",
        "    self.totalCost = totalCost"
      ],
      "metadata": {
        "id": "j6Y5orgC65Ec"
      },
      "execution_count": 5,
      "outputs": []
    },
    {
      "cell_type": "code",
      "source": [
        "graph = {'A': Node('A', None, ['B', 'C', 'E'], None),\n",
        "         'B': Node('B', None, ['A', 'D', 'E'], None),\n",
        "         'C': Node('C', None, ['A', 'F', 'G'], None),\n",
        "         'D': Node('D', None, ['B', 'E'], None),\n",
        "         'E': Node('E', None, ['A', 'B', 'D'], None),\n",
        "         'F': Node('F', None, ['C'], None),\n",
        "         'G': Node('G', None, ['C'], None)}\n",
        "\n",
        "graph"
      ],
      "metadata": {
        "colab": {
          "base_uri": "https://localhost:8080/"
        },
        "id": "V6MMTq4H68EQ",
        "outputId": "8b819ab6-1957-417a-88bb-454a6054032a"
      },
      "execution_count": 6,
      "outputs": [
        {
          "output_type": "execute_result",
          "data": {
            "text/plain": [
              "{'A': <__main__.Node at 0x7f8200241b50>,\n",
              " 'B': <__main__.Node at 0x7f8200241e10>,\n",
              " 'C': <__main__.Node at 0x7f8200241cd0>,\n",
              " 'D': <__main__.Node at 0x7f8200241ed0>,\n",
              " 'E': <__main__.Node at 0x7f8200241fd0>,\n",
              " 'F': <__main__.Node at 0x7f8200241e50>,\n",
              " 'G': <__main__.Node at 0x7f8200241e90>}"
            ]
          },
          "metadata": {},
          "execution_count": 6
        }
      ]
    }
  ]
}